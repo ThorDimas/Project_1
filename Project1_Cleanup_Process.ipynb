{
 "cells": [
  {
   "cell_type": "markdown",
   "id": "42aa3fb9",
   "metadata": {},
   "source": [
    "Questions that need to be answered: \n",
    "* Where did the biggest meteorites land?\n",
    "* Which year did the most meteorites land on Earth?\n",
    "* Which is the most common type of meteorite?\n",
    "* Which is the least common type?"
   ]
  },
  {
   "cell_type": "code",
   "execution_count": 1,
   "id": "240ffa0f",
   "metadata": {},
   "outputs": [],
   "source": [
    "#Import dependencies\n",
    "import pandas as pd\n",
    "import numpy as np\n",
    "import os \n",
    "import csv \n"
   ]
  },
  {
   "cell_type": "code",
   "execution_count": 2,
   "id": "3027e8f5",
   "metadata": {},
   "outputs": [],
   "source": [
    "#Import data files or API\n",
    "source_data_path = os.path.join(\"./Meteorite_Landings.csv\")\n",
    "data_file_read = pd.read_csv(source_data_path)"
   ]
  },
  {
   "cell_type": "code",
   "execution_count": 10,
   "id": "4a01a829",
   "metadata": {},
   "outputs": [
    {
     "data": {
      "text/plain": [
       "Queen Alexandra Range 97646    1\n",
       "Pecora Escarpment 91141        1\n",
       "Queen Alexandra Range 97485    1\n",
       "Queen Alexandra Range 90223    1\n",
       "Huangling                      1\n",
       "                              ..\n",
       "Hammadah al Hamra 279          1\n",
       "Northwest Africa 7387          1\n",
       "Dar al Gani 1041               1\n",
       "Miller Range 07049             1\n",
       "Asuka 881326                   1\n",
       "Name: name, Length: 45716, dtype: int64"
      ]
     },
     "execution_count": 10,
     "metadata": {},
     "output_type": "execute_result"
    }
   ],
   "source": [
    "#Create data frame and print \n",
    "meteorite_df = pd.DataFrame(data_file_read)\n",
    "\n",
    "meteorite_df[\"name\"].value_counts()"
   ]
  },
  {
   "cell_type": "code",
   "execution_count": 11,
   "id": "98b83937",
   "metadata": {},
   "outputs": [
    {
     "data": {
      "text/plain": [
       "Shingle Springs         1\n",
       "Coopertown              1\n",
       "Lea County 002          1\n",
       "Spade                   1\n",
       "Coyote Dry Lake 130     1\n",
       "                       ..\n",
       "Jonesboro               1\n",
       "Park Forest             1\n",
       "Goose Lake              1\n",
       "Enigma                  1\n",
       "Roosevelt County 038    1\n",
       "Name: name, Length: 1644, dtype: int64"
      ]
     },
     "execution_count": 11,
     "metadata": {},
     "output_type": "execute_result"
    }
   ],
   "source": [
    "#Clean all data with no values\n",
    "clean_meteorite_df = meteorite_df.dropna(how = 'any')\n",
    "clean_meteorite_df[\"name\"].value_counts()"
   ]
  },
  {
   "cell_type": "code",
   "execution_count": null,
   "id": "088c8988",
   "metadata": {},
   "outputs": [],
   "source": [
    "#Export clean data for analysis"
   ]
  }
 ],
 "metadata": {
  "kernelspec": {
   "display_name": "Python [conda env:PythonData]",
   "language": "python",
   "name": "conda-env-PythonData-py"
  },
  "language_info": {
   "codemirror_mode": {
    "name": "ipython",
    "version": 3
   },
   "file_extension": ".py",
   "mimetype": "text/x-python",
   "name": "python",
   "nbconvert_exporter": "python",
   "pygments_lexer": "ipython3",
   "version": "3.7.7"
  }
 },
 "nbformat": 4,
 "nbformat_minor": 5
}
