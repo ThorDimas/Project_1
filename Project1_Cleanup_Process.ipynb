{
 "cells": [
  {
   "cell_type": "markdown",
   "id": "42aa3fb9",
   "metadata": {},
   "source": [
    "Questions that need to be answered: \n",
    "* Where did the biggest meteorites land?\n",
    "* Which year did the most meteorites land on Earth?\n",
    "* Which is the most common type of meteorite?\n",
    "* Which is the least common type?"
   ]
  },
  {
   "cell_type": "code",
   "execution_count": 1,
   "id": "240ffa0f",
   "metadata": {},
   "outputs": [],
   "source": [
    "#Import dependencies\n",
    "import pandas as pd\n",
    "import numpy as np\n"
   ]
  },
  {
   "cell_type": "code",
   "execution_count": null,
   "id": "3027e8f5",
   "metadata": {},
   "outputs": [],
   "source": [
    "#Import data files or API"
   ]
  },
  {
   "cell_type": "code",
   "execution_count": null,
   "id": "4a01a829",
   "metadata": {},
   "outputs": [],
   "source": [
    "#Create data frame and print "
   ]
  },
  {
   "cell_type": "code",
   "execution_count": null,
   "id": "98b83937",
   "metadata": {},
   "outputs": [],
   "source": [
    "#Clean all data with no values "
   ]
  },
  {
   "cell_type": "code",
   "execution_count": null,
   "id": "088c8988",
   "metadata": {},
   "outputs": [],
   "source": [
    "#Export clean data for analysis"
   ]
  }
 ],
 "metadata": {
  "kernelspec": {
   "display_name": "Python [conda env:Pythondata]",
   "language": "python",
   "name": "conda-env-Pythondata-py"
  },
  "language_info": {
   "codemirror_mode": {
    "name": "ipython",
    "version": 3
   },
   "file_extension": ".py",
   "mimetype": "text/x-python",
   "name": "python",
   "nbconvert_exporter": "python",
   "pygments_lexer": "ipython3",
   "version": "3.7.13"
  }
 },
 "nbformat": 4,
 "nbformat_minor": 5
}
