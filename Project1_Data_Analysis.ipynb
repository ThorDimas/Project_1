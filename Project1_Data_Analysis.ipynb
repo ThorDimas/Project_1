{
 "cells": [
  {
   "cell_type": "markdown",
   "id": "05fce4c2",
   "metadata": {},
   "source": [
    "Questions that need to be answered: \n",
    "* Where did the biggest meteorites land?\n",
    "* Which year did the most meteorites land on Earth?\n",
    "* Which is the most common type of meteorite?\n",
    "* Which is the least common type?"
   ]
  },
  {
   "cell_type": "code",
   "execution_count": null,
   "id": "bf4cfb88",
   "metadata": {},
   "outputs": [],
   "source": [
    "#Import dependencies"
   ]
  },
  {
   "cell_type": "code",
   "execution_count": null,
   "id": "51ec1239",
   "metadata": {},
   "outputs": [],
   "source": [
    "#Import clean data files or API"
   ]
  },
  {
   "cell_type": "code",
   "execution_count": null,
   "id": "2883bbe9",
   "metadata": {},
   "outputs": [],
   "source": [
    "#Create the data frame"
   ]
  },
  {
   "cell_type": "code",
   "execution_count": null,
   "id": "360be144",
   "metadata": {},
   "outputs": [],
   "source": [
    "#Calculations for each question"
   ]
  },
  {
   "cell_type": "code",
   "execution_count": null,
   "id": "314d67cb",
   "metadata": {},
   "outputs": [],
   "source": [
    "#2 graphs per question."
   ]
  },
  {
   "cell_type": "code",
   "execution_count": null,
   "id": "f7bf712d",
   "metadata": {},
   "outputs": [],
   "source": [
    "#Save graphs as png and export them"
   ]
  }
 ],
 "metadata": {
  "kernelspec": {
   "display_name": "Python [conda env:PythonData]",
   "language": "python",
   "name": "conda-env-PythonData-py"
  },
  "language_info": {
   "codemirror_mode": {
    "name": "ipython",
    "version": 3
   },
   "file_extension": ".py",
   "mimetype": "text/x-python",
   "name": "python",
   "nbconvert_exporter": "python",
   "pygments_lexer": "ipython3",
   "version": "3.7.7"
  }
 },
 "nbformat": 4,
 "nbformat_minor": 5
}
